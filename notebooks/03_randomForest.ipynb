{
 "cells": [
  {
   "cell_type": "markdown",
   "id": "05a9be5e",
   "metadata": {},
   "source": [
    "### Cell 1: Imports"
   ]
  },
  {
   "cell_type": "code",
   "execution_count": 1,
   "id": "76467013",
   "metadata": {},
   "outputs": [],
   "source": [
    "# Standard libraries\n",
    "import pandas as pd\n",
    "import numpy as np\n",
    "import matplotlib.pyplot as plt\n",
    "import seaborn as sns\n",
    "import warnings\n",
    "\n",
    "# Scikit-learn for ML and evaluation\n",
    "from sklearn.model_selection import train_test_split, GridSearchCV\n",
    "from sklearn.ensemble import RandomForestClassifier\n",
    "from sklearn.metrics import accuracy_score, f1_score, roc_auc_score, classification_report\n",
    "from sklearn.preprocessing import StandardScaler\n",
    "from sklearn.model_selection import RandomizedSearchCV\n",
    "from sklearn.metrics import precision_score, recall_score\n",
    "from scipy.stats import randint\n",
    "\n",
    "# TensorFlow / Keras for Deep Neural Network\n",
    "from tensorflow.keras.models import Sequential\n",
    "from tensorflow.keras.layers import Dense, Dropout\n",
    "from tensorflow.keras.optimizers import Adam\n",
    "from tensorflow.keras.callbacks import EarlyStopping\n",
    "\n",
    "# Saving models\n",
    "import joblib\n",
    "import os\n",
    "\n",
    "# Oversampling for class imbalance\n",
    "from imblearn.over_sampling import ADASYN\n",
    "\n",
    "# Suppress warnings\n",
    "warnings.filterwarnings(\"ignore\")"
   ]
  },
  {
   "cell_type": "markdown",
   "id": "532e1c81",
   "metadata": {},
   "source": [
    "### Cell 2: Load filtered dataset"
   ]
  },
  {
   "cell_type": "code",
   "execution_count": 2,
   "id": "5a5e6757",
   "metadata": {},
   "outputs": [],
   "source": [
    "# Load the cleaned and feature-filtered dataset\n",
    "df = pd.read_csv('../data/selected_expression_data.csv')\n",
    "X = df.drop(columns=[\"label\"])\n",
    "y = df[\"label\"]"
   ]
  },
  {
   "cell_type": "markdown",
   "id": "6ddfb3e9",
   "metadata": {},
   "source": [
    "### Cell 3: Train-test split"
   ]
  },
  {
   "cell_type": "code",
   "execution_count": 3,
   "id": "44e13305",
   "metadata": {},
   "outputs": [
    {
     "name": "stdout",
     "output_type": "stream",
     "text": [
      "Train size: (228, 70), Test size: (58, 70)\n"
     ]
    }
   ],
   "source": [
    "# Split the data into training and testing sets (stratified for label balance)\n",
    "X_train, X_test, y_train, y_test = train_test_split(\n",
    "    X, y, test_size=0.2, random_state=42, stratify=y\n",
    ")\n",
    "\n",
    "print(f\"Train size: {X_train.shape}, Test size: {X_test.shape}\")\n",
    "\n",
    "# Scale data separately for each model (important for reproducibility and tracking)\n",
    "# For Baseline RF\n",
    "scaler_baseline = StandardScaler()\n",
    "X_train_scaled_baseline = scaler_baseline.fit_transform(X_train)\n",
    "X_test_scaled_baseline = scaler_baseline.transform(X_test)\n",
    "\n",
    "# For GridSearch RF\n",
    "scaler_grid = StandardScaler()\n",
    "X_train_scaled_grid = scaler_grid.fit_transform(X_train)\n",
    "X_test_scaled_grid = scaler_grid.transform(X_test)\n",
    "\n",
    "# For RandomSearch RF\n",
    "scaler_random = StandardScaler()\n",
    "X_train_scaled_random = scaler_random.fit_transform(X_train)\n",
    "X_test_scaled_random = scaler_random.transform(X_test)\n"
   ]
  },
  {
   "cell_type": "markdown",
   "id": "8fcb1c2d",
   "metadata": {},
   "source": [
    "### Cell 4: Helper function to compute evaluation metrics"
   ]
  },
  {
   "cell_type": "code",
   "execution_count": 4,
   "id": "300cf187",
   "metadata": {},
   "outputs": [],
   "source": [
    "# Helper function to return evaluation scores\n",
    "def get_metrics(y_true, y_pred, y_probs):\n",
    "    return {\n",
    "        \"Accuracy\": accuracy_score(y_true, y_pred),\n",
    "        \"F1\": f1_score(y_true, y_pred),\n",
    "        \"Precision\": precision_score(y_true, y_pred),\n",
    "        \"Recall\": recall_score(y_true, y_pred),\n",
    "        \"ROC AUC\": roc_auc_score(y_true, y_probs)\n",
    "    }"
   ]
  },
  {
   "cell_type": "markdown",
   "id": "a2284751",
   "metadata": {},
   "source": [
    "### Cell 5: Random forest classifier"
   ]
  },
  {
   "cell_type": "code",
   "execution_count": 5,
   "id": "d51f2fda",
   "metadata": {},
   "outputs": [
    {
     "name": "stdout",
     "output_type": "stream",
     "text": [
      "Baseline Random Forest Results\n",
      "              precision    recall  f1-score   support\n",
      "\n",
      "           0       0.78      0.95      0.86        44\n",
      "           1       0.50      0.14      0.22        14\n",
      "\n",
      "    accuracy                           0.76        58\n",
      "   macro avg       0.64      0.55      0.54        58\n",
      "weighted avg       0.71      0.76      0.70        58\n",
      "\n",
      "F1 Score: 0.2222222222222222\n",
      "ROC AUC: 0.6607142857142857\n"
     ]
    }
   ],
   "source": [
    "# Train random forest classifier\n",
    "rf = RandomForestClassifier(n_estimators=100, max_depth=10, random_state=42)\n",
    "rf.fit(X_train_scaled_baseline, y_train)\n",
    "\n",
    "# Predict on test set\n",
    "y_pred_rf = rf.predict(X_test_scaled_baseline)\n",
    "\n",
    "# Evaluate baseline model performance\n",
    "print(\"Baseline Random Forest Results\")\n",
    "print(classification_report(y_test, y_pred_rf))\n",
    "print(\"F1 Score:\", f1_score(y_test, y_pred_rf))\n",
    "print(\"ROC AUC:\", roc_auc_score(y_test, rf.predict_proba(X_test_scaled_baseline)[:, 1]))"
   ]
  },
  {
   "cell_type": "markdown",
   "id": "87a00d34",
   "metadata": {},
   "source": [
    "### Cell 6: Random Forest Tuning with GridSearchCV"
   ]
  },
  {
   "cell_type": "code",
   "execution_count": 6,
   "id": "53f695bc",
   "metadata": {},
   "outputs": [
    {
     "name": "stdout",
     "output_type": "stream",
     "text": [
      "Best parameters from GridSearchCV: {'max_depth': 5, 'min_samples_leaf': 4, 'min_samples_split': 2, 'n_estimators': 100}\n"
     ]
    }
   ],
   "source": [
    "# Define parameter grid with wider hyperparameters\n",
    "param_grid = {\n",
    "    'n_estimators': [100, 200, 300],\n",
    "    'max_depth': [5, 10, 20, None],\n",
    "    'min_samples_split': [2, 5, 10],\n",
    "    'min_samples_leaf': [1, 2, 4]\n",
    "}\n",
    "\n",
    "# Perform grid search with class_weight and macro scoring\n",
    "grid_search = GridSearchCV(\n",
    "    RandomForestClassifier(random_state=42, class_weight='balanced'),\n",
    "    param_grid,\n",
    "    scoring='f1_macro',  # Use 'roc_auc' alternatively\n",
    "    cv=5,\n",
    "    n_jobs=-1\n",
    ")\n",
    "\n",
    "# Fit to training data\n",
    "grid_search.fit(X_train_scaled_grid, y_train)\n",
    "gridSearchRF = grid_search.best_estimator_\n",
    "\n",
    "# Show best parameters\n",
    "print(\"Best parameters from GridSearchCV:\", grid_search.best_params_)\n"
   ]
  },
  {
   "cell_type": "markdown",
   "id": "4cd8c57e",
   "metadata": {},
   "source": [
    "### Cell 7: Evaluate tuned random forest (GridSearchCV)"
   ]
  },
  {
   "cell_type": "code",
   "execution_count": 7,
   "id": "b2e235f0",
   "metadata": {},
   "outputs": [
    {
     "name": "stdout",
     "output_type": "stream",
     "text": [
      "Tuned Random Forest Results\n",
      "              precision    recall  f1-score   support\n",
      "\n",
      "           0       0.81      0.89      0.85        44\n",
      "           1       0.50      0.36      0.42        14\n",
      "\n",
      "    accuracy                           0.76        58\n",
      "   macro avg       0.66      0.62      0.63        58\n",
      "weighted avg       0.74      0.76      0.74        58\n",
      "\n",
      "F1 Score: 0.4166666666666667\n",
      "ROC AUC: 0.6525974025974026\n"
     ]
    }
   ],
   "source": [
    "# Evaluate best-tuned random forest\n",
    "y_pred_gridSearchRF = gridSearchRF.predict(X_test_scaled_grid)\n",
    "\n",
    "print(\"Tuned Random Forest Results\")\n",
    "print(classification_report(y_test, y_pred_gridSearchRF))\n",
    "print(\"F1 Score:\", f1_score(y_test, y_pred_gridSearchRF))\n",
    "print(\"ROC AUC:\", roc_auc_score(y_test, gridSearchRF.predict_proba(X_test_scaled_grid)[:, 1]))"
   ]
  },
  {
   "cell_type": "markdown",
   "id": "5b29093c",
   "metadata": {},
   "source": [
    "### Cell 8: Random forest tuning with RandomizedSearchCV"
   ]
  },
  {
   "cell_type": "code",
   "execution_count": 8,
   "id": "04db2b61",
   "metadata": {},
   "outputs": [
    {
     "name": "stdout",
     "output_type": "stream",
     "text": [
      "Fitting 5 folds for each of 50 candidates, totalling 250 fits\n",
      "Best parameters from RandomizedSearchCV: {'max_depth': 30, 'max_features': 'sqrt', 'min_samples_leaf': 8, 'min_samples_split': 8, 'n_estimators': 221}\n"
     ]
    }
   ],
   "source": [
    "# Advanced hyperparameter tuning using RandomizedSearchCV\n",
    "\n",
    "param_dist = {\n",
    "    'n_estimators': randint(100, 500),\n",
    "    'max_depth': [5, 10, 20, 30, None],\n",
    "    'min_samples_split': randint(2, 20),\n",
    "    'min_samples_leaf': randint(1, 10),\n",
    "    'max_features': ['sqrt', 'log2', None],\n",
    "}\n",
    "\n",
    "rf_model = RandomForestClassifier(random_state=42, class_weight='balanced')\n",
    "\n",
    "random_search = RandomizedSearchCV(\n",
    "    estimator=rf_model,\n",
    "    param_distributions=param_dist,\n",
    "    n_iter=50,\n",
    "    scoring='f1_macro',\n",
    "    cv=5,\n",
    "    n_jobs=-1,\n",
    "    random_state=42,\n",
    "    verbose=1\n",
    ")\n",
    "\n",
    "random_search.fit(X_train_scaled_random, y_train)\n",
    "randomSearchRF = random_search.best_estimator_\n",
    "\n",
    "print(\"Best parameters from RandomizedSearchCV:\", random_search.best_params_)\n"
   ]
  },
  {
   "cell_type": "markdown",
   "id": "a3520f03",
   "metadata": {},
   "source": [
    "### Cell 9: Evaluate RandomizedSearchCV random forest model"
   ]
  },
  {
   "cell_type": "code",
   "execution_count": 9,
   "id": "a9322ed7",
   "metadata": {},
   "outputs": [
    {
     "name": "stdout",
     "output_type": "stream",
     "text": [
      "Tuned RF (RandomizedSearchCV) Results\n",
      "              precision    recall  f1-score   support\n",
      "\n",
      "           0       0.80      0.91      0.85        44\n",
      "           1       0.50      0.29      0.36        14\n",
      "\n",
      "    accuracy                           0.76        58\n",
      "   macro avg       0.65      0.60      0.61        58\n",
      "weighted avg       0.73      0.76      0.73        58\n",
      "\n",
      "F1 Score: 0.36363636363636365\n",
      "ROC AUC: 0.6834415584415584\n"
     ]
    }
   ],
   "source": [
    "# Evaluation of RandomizedSearchCV-tuned model\n",
    "y_pred_randomSearchRF = randomSearchRF.predict(X_test_scaled_random)\n",
    "\n",
    "print(\"Tuned RF (RandomizedSearchCV) Results\")\n",
    "print(classification_report(y_test, y_pred_randomSearchRF))\n",
    "print(\"F1 Score:\", f1_score(y_test, y_pred_randomSearchRF))\n",
    "print(\"ROC AUC:\", roc_auc_score(y_test, randomSearchRF.predict_proba(X_test_scaled_random)[:, 1]))\n",
    "\n",
    "metrics_rf_random =  get_metrics(y_test, y_pred_randomSearchRF, randomSearchRF.predict_proba(X_test_scaled_random)[:, 1])"
   ]
  },
  {
   "cell_type": "markdown",
   "id": "99a4b717",
   "metadata": {},
   "source": [
    "### Cell 10: Compare all random forest models"
   ]
  },
  {
   "cell_type": "code",
   "execution_count": 10,
   "id": "44834010",
   "metadata": {},
   "outputs": [
    {
     "data": {
      "text/html": [
       "<div>\n",
       "<style scoped>\n",
       "    .dataframe tbody tr th:only-of-type {\n",
       "        vertical-align: middle;\n",
       "    }\n",
       "\n",
       "    .dataframe tbody tr th {\n",
       "        vertical-align: top;\n",
       "    }\n",
       "\n",
       "    .dataframe thead th {\n",
       "        text-align: right;\n",
       "    }\n",
       "</style>\n",
       "<table border=\"1\" class=\"dataframe\">\n",
       "  <thead>\n",
       "    <tr style=\"text-align: right;\">\n",
       "      <th></th>\n",
       "      <th>Accuracy</th>\n",
       "      <th>F1</th>\n",
       "      <th>Precision</th>\n",
       "      <th>Recall</th>\n",
       "      <th>ROC AUC</th>\n",
       "    </tr>\n",
       "  </thead>\n",
       "  <tbody>\n",
       "    <tr>\n",
       "      <th>Baseline RF</th>\n",
       "      <td>0.759</td>\n",
       "      <td>0.222</td>\n",
       "      <td>0.5</td>\n",
       "      <td>0.143</td>\n",
       "      <td>0.661</td>\n",
       "    </tr>\n",
       "    <tr>\n",
       "      <th>GridSearch RF</th>\n",
       "      <td>0.759</td>\n",
       "      <td>0.417</td>\n",
       "      <td>0.5</td>\n",
       "      <td>0.357</td>\n",
       "      <td>0.653</td>\n",
       "    </tr>\n",
       "    <tr>\n",
       "      <th>RandomSearch RF</th>\n",
       "      <td>0.759</td>\n",
       "      <td>0.364</td>\n",
       "      <td>0.5</td>\n",
       "      <td>0.286</td>\n",
       "      <td>0.683</td>\n",
       "    </tr>\n",
       "  </tbody>\n",
       "</table>\n",
       "</div>"
      ],
      "text/plain": [
       "                 Accuracy     F1  Precision  Recall  ROC AUC\n",
       "Baseline RF         0.759  0.222        0.5   0.143    0.661\n",
       "GridSearch RF       0.759  0.417        0.5   0.357    0.653\n",
       "RandomSearch RF     0.759  0.364        0.5   0.286    0.683"
      ]
     },
     "metadata": {},
     "output_type": "display_data"
    }
   ],
   "source": [
    "# Helper function to compute all metrics\n",
    "def get_metrics(y_true, y_pred, y_probs):\n",
    "    return {\n",
    "        \"Accuracy\": accuracy_score(y_true, y_pred),\n",
    "        \"F1\": f1_score(y_true, y_pred),\n",
    "        \"Precision\": precision_score(y_true, y_pred),\n",
    "        \"Recall\": recall_score(y_true, y_pred),\n",
    "        \"ROC AUC\": roc_auc_score(y_true, y_probs)\n",
    "    }\n",
    "\n",
    "# Collect metrics for all three models\n",
    "metrics = {\n",
    "    \"Baseline RF\": get_metrics(y_test, y_pred_rf, rf.predict_proba(X_test_scaled_baseline)[:, 1]),\n",
    "    \"GridSearch RF\": get_metrics(y_test, y_pred_gridSearchRF, grid_search.best_estimator_.predict_proba(X_test_scaled_grid)[:, 1]),\n",
    "    \"RandomSearch RF\": get_metrics(y_test, y_pred_randomSearchRF, randomSearchRF.predict_proba(X_test_scaled_random)[:, 1])\n",
    "}\n",
    "\n",
    "# Convert to long-form DataFrame for seaborn plotting\n",
    "metrics_df = pd.DataFrame(metrics).T.round(3)\n",
    "metrics_long = metrics_df.reset_index().melt(id_vars='index', var_name='Metric', value_name='Score')\n",
    "metrics_long.rename(columns={'index': 'Model'}, inplace=True)\n",
    "\n",
    "# Display table\n",
    "display(metrics_df)"
   ]
  },
  {
   "cell_type": "markdown",
   "id": "37500663",
   "metadata": {},
   "source": [
    "### Model Evaluation Summary\n",
    "Across all three Random Forest models — **Baseline**, **GridSearchCV-tuned**, and **RandomizedSearchCV-tuned** — the overall accuracy remains constant at 0.76. However, this metric overstates performance due to the significant class imbalance in the dataset. In this case, consistently predicting the majority class (non-relapse) yields high accuracy, but it fails to meaningfully detect the minority class (relapse).\n",
    "\n",
    "Key takeaways:\n",
    "- **F1 Score** improved from 0.22 (Baseline) to 0.42 (GridSearchCV) and 0.36 (RandomSearchCV), suggesting that hyperparameter tuning helps optimize the balance between precision and recall.\n",
    "- **Recall**, which is especially important for identifying relapse cases, improved from 0.14 in the baseline model to 0.36 (GridSearchCV) and 0.29 (RandomSearchCV) — an encouraging sign, though still insufficient for clinical application.\n",
    "- **Precision** remained constant across all three models (0.50), indicating that while more relapse cases are being captured (↑ Recall), the proportion of true positives among those predictions is stable.\n",
    "- **ROC AUC** showed a slight improvement in the RandomizedSearchCV model (0.68) compared to the baseline (0.66), reflecting modest gains in the model's discriminative ability.\n",
    "\n",
    "While tuning helped, the model is still limited in sensitivity toward the minority class. As a result, the next section will prioritize addressing class imbalance, experimenting with:\n",
    "\n",
    "- `class_weight='balanced'` and\n",
    "- advanced sampling strategies (e.g., ADASYN)\n",
    "\n",
    "These strategies aim to boost recall and F1 without severely compromising precision, helping create a model that can reliably flag relapse patients in a high-stakes clinical context."
   ]
  },
  {
   "cell_type": "markdown",
   "id": "bf933383",
   "metadata": {},
   "source": [
    "### Cell 11: Comparison of random forest models with barplots"
   ]
  },
  {
   "cell_type": "code",
   "execution_count": 11,
   "id": "71e4b84e",
   "metadata": {},
   "outputs": [
    {
     "data": {
      "image/png": "[encoded data removed]",
      "text/plain": [
       "<Figure size 1000x600 with 1 Axes>"
      ]
     },
     "metadata": {},
     "output_type": "display_data"
    }
   ],
   "source": [
    "# Bar plot with value labels\n",
    "plt.figure(figsize=(10, 6))\n",
    "ax = sns.barplot(data=metrics_long, x='Metric', y='Score', hue='Model')\n",
    "\n",
    "plt.title(\"Performance Comparison of Random Forest Models\")\n",
    "plt.ylim(0, 1.05)\n",
    "plt.ylabel(\"Score\")\n",
    "plt.xlabel(\"Metric\")\n",
    "plt.grid(axis='y', linestyle='--', alpha=0.6)\n",
    "plt.legend(title=\"Model\", bbox_to_anchor=(1.05, 1), loc='upper left')\n",
    "\n",
    "# Add value labels on top of each bar\n",
    "for p in ax.patches:\n",
    "    height = p.get_height()\n",
    "    if np.isnan(height) or height == 0:\n",
    "        continue\n",
    "    ax.annotate(f'{height:.2f}', \n",
    "                (p.get_x() + p.get_width() / 2., height), \n",
    "                ha='center', va='bottom', \n",
    "                fontsize=9, color='black', \n",
    "                xytext=(0, 3), textcoords='offset points')\n",
    "\n",
    "plt.tight_layout()\n",
    "plt.show()"
   ]
  },
  {
   "cell_type": "markdown",
   "id": "956a07be",
   "metadata": {},
   "source": [
    "### Cell 12: Train `class_weight='balanced'` RF with `RandomizedSearchCV`"
   ]
  },
  {
   "cell_type": "code",
   "execution_count": 12,
   "id": "3b1ea6d5",
   "metadata": {},
   "outputs": [],
   "source": [
    "# Standardize training data\n",
    "scaler_weighted = StandardScaler()\n",
    "X_train_weighted = scaler_weighted.fit_transform(X_train)\n",
    "X_test_weighted = scaler_weighted.transform(X_test)\n",
    "\n",
    "# Define class-weighted Random Forest model\n",
    "rf_weighted = RandomForestClassifier(class_weight=\"balanced\", random_state=42)\n",
    "\n",
    "# Define search space\n",
    "param_dist = {\n",
    "    \"n_estimators\": [100, 200, 300],\n",
    "    \"max_depth\": [3, 5, 10, None],\n",
    "    \"min_samples_split\": [2, 5, 10]\n",
    "}\n",
    "\n",
    "# Randomized search for best hyperparameters\n",
    "search_weighted = RandomizedSearchCV(\n",
    "    rf_weighted, param_distributions=param_dist, n_iter=10,\n",
    "    cv=3, scoring=\"f1\", n_jobs=-1, random_state=42\n",
    ")\n",
    "search_weighted.fit(X_train_weighted, y_train)\n",
    "\n",
    "# Evaluate class-weighted model\n",
    "y_pred_weighted = search_weighted.best_estimator_.predict(X_test_weighted)\n",
    "y_prob_weighted = search_weighted.best_estimator_.predict_proba(X_test_weighted)[:, 1]\n",
    "metrics_rf_weighted = get_metrics(y_test, y_pred_weighted, y_prob_weighted)"
   ]
  },
  {
   "cell_type": "markdown",
   "id": "a3d0cf6e",
   "metadata": {},
   "source": [
    "### Cell 13: Train `ADASYN` RF with `RandomizedSearchCV`"
   ]
  },
  {
   "cell_type": "code",
   "execution_count": 13,
   "id": "67137a94",
   "metadata": {},
   "outputs": [
    {
     "name": "stderr",
     "output_type": "stream",
     "text": [
      "  File \"C:\\Users\\chhua\\AppData\\Local\\Packages\\PythonSoftwareFoundation.Python.3.11_qbz5n2kfra8p0\\LocalCache\\local-packages\\Python311\\site-packages\\joblib\\externals\\loky\\backend\\context.py\", line 257, in _count_physical_cores\n",
      "    cpu_info = subprocess.run(\n",
      "               ^^^^^^^^^^^^^^^\n",
      "  File \"C:\\Program Files\\WindowsApps\\PythonSoftwareFoundation.Python.3.11_3.11.2544.0_x64__qbz5n2kfra8p0\\Lib\\subprocess.py\", line 548, in run\n",
      "    with Popen(*popenargs, **kwargs) as process:\n",
      "         ^^^^^^^^^^^^^^^^^^^^^^^^^^^\n",
      "  File \"C:\\Program Files\\WindowsApps\\PythonSoftwareFoundation.Python.3.11_3.11.2544.0_x64__qbz5n2kfra8p0\\Lib\\subprocess.py\", line 1026, in __init__\n",
      "    self._execute_child(args, executable, preexec_fn, close_fds,\n",
      "  File \"C:\\Program Files\\WindowsApps\\PythonSoftwareFoundation.Python.3.11_3.11.2544.0_x64__qbz5n2kfra8p0\\Lib\\subprocess.py\", line 1538, in _execute_child\n",
      "    hp, ht, pid, tid = _winapi.CreateProcess(executable, args,\n",
      "                       ^^^^^^^^^^^^^^^^^^^^^^^^^^^^^^^^^^^^^^^\n"
     ]
    }
   ],
   "source": [
    "# Scale training and test data\n",
    "scaler_adasyn = StandardScaler()\n",
    "X_train_scaled_adasyn = scaler_adasyn.fit_transform(X_train)\n",
    "X_test_scaled_adasyn = scaler_adasyn.transform(X_test)\n",
    "\n",
    "# Apply ADASYN to the training data\n",
    "adasyn = ADASYN(random_state=42)\n",
    "X_resampled_adasyn, y_resampled_adasyn = adasyn.fit_resample(X_train_scaled_adasyn, y_train)\n",
    "\n",
    "# Define hyperparameter grid\n",
    "param_dist_adasyn = {\n",
    "    'n_estimators': [50, 100, 200],\n",
    "    'max_depth': [None, 5, 10, 20],\n",
    "    'min_samples_split': [2, 5, 10]\n",
    "}\n",
    "\n",
    "# Initialize and fit Random Forest with randomized search\n",
    "rf_adasyn = RandomForestClassifier(random_state=42)\n",
    "random_search_adasyn = RandomizedSearchCV(\n",
    "    estimator=rf_adasyn,\n",
    "    param_distributions=param_dist_adasyn,\n",
    "    n_iter=10,\n",
    "    cv=5,\n",
    "    scoring='f1',\n",
    "    random_state=42,\n",
    "    n_jobs=-1\n",
    ")\n",
    "random_search_adasyn.fit(X_resampled_adasyn, y_resampled_adasyn)\n",
    "\n",
    "# Predict and evaluate\n",
    "y_pred_adasyn = random_search_adasyn.predict(X_test_scaled_adasyn)\n",
    "y_prob_adasyn = random_search_adasyn.predict_proba(X_test_scaled_adasyn)[:, 1]\n",
    "metrics_rf_adasyn = get_metrics(y_test, y_pred_adasyn, y_prob_adasyn)"
   ]
  },
  {
   "cell_type": "markdown",
   "id": "c7b3915f",
   "metadata": {},
   "source": [
    "### Cell 14: Compare metrics of all three models"
   ]
  },
  {
   "cell_type": "code",
   "execution_count": 14,
   "id": "c19b1e94",
   "metadata": {},
   "outputs": [
    {
     "data": {
      "text/html": [
       "<div>\n",
       "<style scoped>\n",
       "    .dataframe tbody tr th:only-of-type {\n",
       "        vertical-align: middle;\n",
       "    }\n",
       "\n",
       "    .dataframe tbody tr th {\n",
       "        vertical-align: top;\n",
       "    }\n",
       "\n",
       "    .dataframe thead th {\n",
       "        text-align: right;\n",
       "    }\n",
       "</style>\n",
       "<table border=\"1\" class=\"dataframe\">\n",
       "  <thead>\n",
       "    <tr style=\"text-align: right;\">\n",
       "      <th></th>\n",
       "      <th>Accuracy</th>\n",
       "      <th>F1</th>\n",
       "      <th>Precision</th>\n",
       "      <th>Recall</th>\n",
       "      <th>ROC AUC</th>\n",
       "    </tr>\n",
       "  </thead>\n",
       "  <tbody>\n",
       "    <tr>\n",
       "      <th>RandomSearchCV RF</th>\n",
       "      <td>0.758621</td>\n",
       "      <td>0.363636</td>\n",
       "      <td>0.500000</td>\n",
       "      <td>0.285714</td>\n",
       "      <td>0.683442</td>\n",
       "    </tr>\n",
       "    <tr>\n",
       "      <th>Class-Weighted RandomSearchCV RF</th>\n",
       "      <td>0.706897</td>\n",
       "      <td>0.484848</td>\n",
       "      <td>0.421053</td>\n",
       "      <td>0.571429</td>\n",
       "      <td>0.660714</td>\n",
       "    </tr>\n",
       "    <tr>\n",
       "      <th>ADASYN RandomSearchCV RF</th>\n",
       "      <td>0.689655</td>\n",
       "      <td>0.250000</td>\n",
       "      <td>0.300000</td>\n",
       "      <td>0.214286</td>\n",
       "      <td>0.620130</td>\n",
       "    </tr>\n",
       "  </tbody>\n",
       "</table>\n",
       "</div>"
      ],
      "text/plain": [
       "                                  Accuracy        F1  Precision    Recall  \\\n",
       "RandomSearchCV RF                 0.758621  0.363636   0.500000  0.285714   \n",
       "Class-Weighted RandomSearchCV RF  0.706897  0.484848   0.421053  0.571429   \n",
       "ADASYN RandomSearchCV RF          0.689655  0.250000   0.300000  0.214286   \n",
       "\n",
       "                                   ROC AUC  \n",
       "RandomSearchCV RF                 0.683442  \n",
       "Class-Weighted RandomSearchCV RF  0.660714  \n",
       "ADASYN RandomSearchCV RF          0.620130  "
      ]
     },
     "metadata": {},
     "output_type": "display_data"
    }
   ],
   "source": [
    "# Collect all metrics into a DataFrame\n",
    "comparison_df = pd.DataFrame({\n",
    "    \"RandomSearchCV RF\": metrics_rf_random,\n",
    "    \"Class-Weighted RandomSearchCV RF\": metrics_rf_weighted,\n",
    "    \"ADASYN RandomSearchCV RF\": metrics_rf_adasyn\n",
    "}, index=[\"Accuracy\", \"F1\", \"Precision\", \"Recall\", \"ROC AUC\"]).T\n",
    "\n",
    "display(comparison_df)"
   ]
  },
  {
   "cell_type": "markdown",
   "id": "ae48f79a",
   "metadata": {},
   "source": [
    "### Models Evaluation Summary\n",
    "This analysis evaluated the effectiveness of class balancing strategies for improving Random Forest performance in the presence of significant class imbalance. All models were optimized using `RandomizedSearchCV`:\n",
    "- **RandomSearchCV RF**: Baseline tuned Random Forest without class balancing.\n",
    "- **Class-Weighted RF**: Applied `class_weight=\"balanced\"` to adjust for imbalance during training.\n",
    "- **ADASYN RF**: Used ADASYN to synthetically oversample the minority class prior to training.\n",
    "\n",
    "Key Observations:\n",
    "- Class-Weighted RF achieved the highest F1 Score (0.48) and Recall (0.57) — indicating significant improvement in detecting the minority class (relapse), with only a modest drop in precision and accuracy.\n",
    "- RandomSearchCV RF still maintained the highest ROC AUC (0.68), suggesting stronger overall class discrimination.\n",
    "- ADASYN RF performed worse across all metrics, especially in F1 (0.25), Recall (0.21), and ROC AUC (0.62), likely due to noise introduced by synthetic samples in high-dimensional space.\n",
    "\n",
    "Conclusion:\n",
    "The Class-Weighted Random Forest is the most balanced and effective choice in this comparison. It offers meaningful gains in minority class recall and F1, with minimal trade-offs. This makes it a strong candidate for clinical prediction tasks where correctly identifying relapse cases is critical.\n",
    "\n",
    "Next Steps:\n",
    "Given these insights, the next modeling phase will transition to **XGBoost**, which offers advanced control over imbalance handling (e.g., `scale_pos_weight`) and may further enhance recall and overall model robustness."
   ]
  },
  {
   "cell_type": "markdown",
   "id": "4b5c205b",
   "metadata": {},
   "source": [
    "### Cell 15: Plot model performance"
   ]
  },
  {
   "cell_type": "code",
   "execution_count": 15,
   "id": "85c0b992",
   "metadata": {},
   "outputs": [
    {
     "data": {
      "image/png": "[encoded data removed]",
      "text/plain": [
       "<Figure size 1200x600 with 1 Axes>"
      ]
     },
     "metadata": {},
     "output_type": "display_data"
    }
   ],
   "source": [
    "# Reshape data for grouped bar plot\n",
    "comparison_long = comparison_df.reset_index().melt(id_vars=\"index\", var_name=\"Metric\", value_name=\"Score\")\n",
    "comparison_long.rename(columns={\"index\": \"Model\"}, inplace=True)\n",
    "\n",
    "# Create barplot\n",
    "plt.figure(figsize=(12, 6))\n",
    "ax = sns.barplot(data=comparison_long, x=\"Metric\", y=\"Score\", hue=\"Model\")\n",
    "\n",
    "# Annotate scores on top of each bar\n",
    "for p in ax.patches:\n",
    "    height = p.get_height()\n",
    "    if np.isnan(height) or height == 0:\n",
    "            continue\n",
    "    ax.annotate(f'{height:.2f}',\n",
    "                (p.get_x() + p.get_width() / 2., height),\n",
    "                ha='center', va='bottom',\n",
    "                fontsize=8, color='black',\n",
    "                xytext=(0, 3), textcoords='offset points')\n",
    "\n",
    "# Final plot settings\n",
    "plt.title(\"Comparison of Class Balancing Strategies for RF\")\n",
    "plt.ylim(0, 1.05)\n",
    "plt.grid(axis=\"y\", linestyle=\"--\", alpha=0.7)\n",
    "plt.tight_layout()\n",
    "plt.show()"
   ]
  },
  {
   "cell_type": "markdown",
   "id": "96fd2f12",
   "metadata": {},
   "source": [
    "### Cell 16: Export models"
   ]
  },
  {
   "cell_type": "code",
   "execution_count": 16,
   "id": "725140f8",
   "metadata": {},
   "outputs": [
    {
     "name": "stdout",
     "output_type": "stream",
     "text": [
      "All models have been saved to `models` and all scalers have been saved to `scalers`.\n"
     ]
    }
   ],
   "source": [
    "# Create output directory if it doesn't exist\n",
    "os.makedirs('../models', exist_ok=True)\n",
    "os.makedirs('../scalers', exist_ok=True)\n",
    "\n",
    "# Save models\n",
    "joblib.dump(gridSearchRF, '../models/rf_gridsearch_model.pkl')\n",
    "joblib.dump(randomSearchRF, '../models/rf_randomsearch_model.pkl')\n",
    "joblib.dump(rf, '../models/rf_baseline_model.pkl')\n",
    "joblib.dump(search_weighted.best_estimator_, \"../models/rf_class_weighted.pkl\")\n",
    "joblib.dump(scaler_weighted, \"../models/scaler_class_weighted.pkl\")\n",
    "\n",
    "# Save associated scalers\n",
    "joblib.dump(scaler_grid, '../scalers/scaler_gridsearch.pkl')\n",
    "joblib.dump(scaler_random, '../scalers/scaler_randomsearch.pkl')\n",
    "joblib.dump(scaler_baseline, '../scalers/scaler_baseline.pkl')\n",
    "joblib.dump(random_search_adasyn, \"../scalers/rf_adasyn_model.pkl\")\n",
    "joblib.dump(scaler_adasyn, \"../scalers/scaler_adasyn.pkl\")\n",
    "\n",
    "print(\"All models have been saved to `models` and all scalers have been saved to `scalers`.\")"
   ]
  }
 ],
 "metadata": {
  "kernelspec": {
   "display_name": "Python 3",
   "language": "python",
   "name": "python3"
  },
  "language_info": {
   "codemirror_mode": {
    "name": "ipython",
    "version": 3
   },
   "file_extension": ".py",
   "mimetype": "text/x-python",
   "name": "python",
   "nbconvert_exporter": "python",
   "pygments_lexer": "ipython3",
   "version": "3.11.9"
  }
 },
 "nbformat": 4,
 "nbformat_minor": 5
}
