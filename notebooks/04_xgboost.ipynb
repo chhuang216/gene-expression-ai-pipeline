{
 "cells": [
  {
   "cell_type": "markdown",
   "id": "721f526c",
   "metadata": {},
   "source": [
    "### Cell 1: Import required libraries"
   ]
  },
  {
   "cell_type": "code",
   "execution_count": 1,
   "id": "4a5298fa",
   "metadata": {},
   "outputs": [],
   "source": [
    "# Data handling\n",
    "import pandas as pd\n",
    "import numpy as np\n",
    "\n",
    "# Data preprocessing and modeling\n",
    "from sklearn.model_selection import train_test_split, RandomizedSearchCV\n",
    "from sklearn.preprocessing import StandardScaler\n",
    "from sklearn.metrics import accuracy_score, f1_score, precision_score, recall_score, roc_auc_score\n",
    "\n",
    "# XGBoost\n",
    "from xgboost import XGBClassifier\n",
    "\n",
    "# Utilities\n",
    "import joblib\n",
    "import os\n",
    "import matplotlib.pyplot as plt\n",
    "import seaborn as sns"
   ]
  },
  {
   "cell_type": "markdown",
   "id": "700b3edf",
   "metadata": {},
   "source": [
    "### Cell 2: Load and prepare data"
   ]
  },
  {
   "cell_type": "code",
   "execution_count": 2,
   "id": "243acdf9",
   "metadata": {},
   "outputs": [],
   "source": [
    "# Load filtered gene expression dataset\n",
    "df = pd.read_csv(\"../data/selected_expression_data.csv\")\n",
    "\n",
    "# Separate features and target\n",
    "X = df.drop(columns=[\"label\"])\n",
    "y = df[\"label\"]\n",
    "\n",
    "# Train-test split with stratification\n",
    "X_train, X_test, y_train, y_test = train_test_split(\n",
    "    X, y, test_size=0.25, stratify=y, random_state=42\n",
    ")\n",
    "\n",
    "# Standardize features\n",
    "scaler_xgb = StandardScaler()\n",
    "X_train_scaled = scaler_xgb.fit_transform(X_train)\n",
    "X_test_scaled = scaler_xgb.transform(X_test)"
   ]
  },
  {
   "cell_type": "markdown",
   "id": "317ac68f",
   "metadata": {},
   "source": [
    "### Cell 3: Define helper function for evaluation"
   ]
  },
  {
   "cell_type": "code",
   "execution_count": 3,
   "id": "9e2e5472",
   "metadata": {},
   "outputs": [],
   "source": [
    "# Define a helper function to compute key performance metrics\n",
    "def get_metrics(y_true, y_pred, y_probs):\n",
    "    return {\n",
    "        \"Accuracy\": accuracy_score(y_true, y_pred),\n",
    "        \"F1\": f1_score(y_true, y_pred, zero_division=0),\n",
    "        \"Precision\": precision_score(y_true, y_pred, zero_division=0),\n",
    "        \"Recall\": recall_score(y_true, y_pred, zero_division=0),\n",
    "        \"ROC AUC\": roc_auc_score(y_true, y_probs)\n",
    "    }"
   ]
  },
  {
   "cell_type": "markdown",
   "id": "e744b7e3",
   "metadata": {},
   "source": [
    "### Cell 4: Train baseline `XGBoost` model"
   ]
  },
  {
   "cell_type": "code",
   "execution_count": 4,
   "id": "1ad60e63",
   "metadata": {},
   "outputs": [
    {
     "name": "stdout",
     "output_type": "stream",
     "text": [
      "Accuracy: 0.764\n",
      "F1: 0.190\n",
      "Precision: 0.500\n",
      "Recall: 0.118\n",
      "ROC AUC: 0.760\n"
     ]
    },
    {
     "name": "stderr",
     "output_type": "stream",
     "text": [
      "C:\\Users\\chhua\\AppData\\Local\\Packages\\PythonSoftwareFoundation.Python.3.11_qbz5n2kfra8p0\\LocalCache\\local-packages\\Python311\\site-packages\\xgboost\\training.py:183: UserWarning: [20:01:59] WARNING: C:\\actions-runner\\_work\\xgboost\\xgboost\\src\\learner.cc:738: \n",
      "Parameters: { \"use_label_encoder\" } are not used.\n",
      "\n",
      "  bst.update(dtrain, iteration=i, fobj=obj)\n"
     ]
    }
   ],
   "source": [
    "# Train a baseline `XGBoost` model without tuning\n",
    "xgb_baseline = XGBClassifier(use_label_encoder=False, eval_metric='logloss', random_state=42)\n",
    "xgb_baseline.fit(X_train_scaled, y_train)\n",
    "\n",
    "# Evaluate baseline model\n",
    "y_pred_xgb = xgb_baseline.predict(X_test_scaled)\n",
    "y_prob_xgb = xgb_baseline.predict_proba(X_test_scaled)[:, 1]\n",
    "metrics_xgb = get_metrics(y_test, y_pred_xgb, y_prob_xgb)\n",
    "\n",
    "# Display baseline metrics\n",
    "for k, v in metrics_xgb.items():\n",
    "    print(f\"{k}: {v:.3f}\")"
   ]
  },
  {
   "cell_type": "markdown",
   "id": "7cd0acfb",
   "metadata": {},
   "source": [
    "### Cell 5: Hyperparameter tuning with `RandomizedSearchCV`"
   ]
  },
  {
   "cell_type": "code",
   "execution_count": 5,
   "id": "1f5da547",
   "metadata": {},
   "outputs": [
    {
     "name": "stdout",
     "output_type": "stream",
     "text": [
      "Fitting 3 folds for each of 40 candidates, totalling 120 fits\n",
      "\n",
      "Tuned XGBoost Metrics:\n",
      "Accuracy: 0.667\n",
      "F1: 0.368\n",
      "Precision: 0.333\n",
      "Recall: 0.412\n",
      "ROC AUC: 0.735\n"
     ]
    },
    {
     "name": "stderr",
     "output_type": "stream",
     "text": [
      "C:\\Users\\chhua\\AppData\\Local\\Packages\\PythonSoftwareFoundation.Python.3.11_qbz5n2kfra8p0\\LocalCache\\local-packages\\Python311\\site-packages\\xgboost\\training.py:183: UserWarning: [20:02:03] WARNING: C:\\actions-runner\\_work\\xgboost\\xgboost\\src\\learner.cc:738: \n",
      "Parameters: { \"use_label_encoder\" } are not used.\n",
      "\n",
      "  bst.update(dtrain, iteration=i, fobj=obj)\n"
     ]
    }
   ],
   "source": [
    "# Define hyperparameter grid with imbalance handling\n",
    "param_dist = {\n",
    "    'n_estimators': [100, 200, 300, 500],\n",
    "    'max_depth': [3, 5, 7, 10, 15],\n",
    "    'learning_rate': [0.01, 0.05, 0.1, 0.2],\n",
    "    'subsample': [0.6, 0.8, 1.0],\n",
    "    'colsample_bytree': [0.6, 0.8, 1.0],\n",
    "    'gamma': [0, 1, 5],                          # Minimum loss reduction\n",
    "    'reg_alpha': [0, 0.1, 0.5],                  # L1 regularization\n",
    "    'reg_lambda': [0.5, 1.0, 2.0],               # L2 regularization\n",
    "    'scale_pos_weight': [1, 5, 10, 20]           # For imbalanced classes\n",
    "}\n",
    "\n",
    "# Initialize XGBoost classifier\n",
    "xgb_model = XGBClassifier(use_label_encoder=False, eval_metric='logloss', random_state=42)\n",
    "\n",
    "# Perform randomized search\n",
    "search_xgb = RandomizedSearchCV(\n",
    "    xgb_model, param_distributions=param_dist,\n",
    "    n_iter=40, scoring='f1', cv=3, n_jobs=-1, verbose=1, random_state=42\n",
    ")\n",
    "search_xgb.fit(X_train_scaled, y_train)\n",
    "\n",
    "# Evaluate tuned model\n",
    "y_pred_xgb_tuned = search_xgb.best_estimator_.predict(X_test_scaled)\n",
    "y_prob_xgb_tuned = search_xgb.best_estimator_.predict_proba(X_test_scaled)[:, 1]\n",
    "metrics_xgb_tuned = get_metrics(y_test, y_pred_xgb_tuned, y_prob_xgb_tuned)\n",
    "\n",
    "# Display tuned model metrics\n",
    "print(\"\\nTuned XGBoost Metrics:\")\n",
    "for k, v in metrics_xgb_tuned.items():\n",
    "    print(f\"{k}: {v:.3f}\")"
   ]
  },
  {
   "cell_type": "markdown",
   "id": "f89a48f3",
   "metadata": {},
   "source": [
    "### Cell 7: Summary of model performance"
   ]
  },
  {
   "cell_type": "code",
   "execution_count": 6,
   "id": "546c2e4a",
   "metadata": {},
   "outputs": [
    {
     "name": "stdout",
     "output_type": "stream",
     "text": [
      "\n",
      "XGBoost Model Evaluation Summary:\n"
     ]
    },
    {
     "data": {
      "text/html": [
       "<div>\n",
       "<style scoped>\n",
       "    .dataframe tbody tr th:only-of-type {\n",
       "        vertical-align: middle;\n",
       "    }\n",
       "\n",
       "    .dataframe tbody tr th {\n",
       "        vertical-align: top;\n",
       "    }\n",
       "\n",
       "    .dataframe thead th {\n",
       "        text-align: right;\n",
       "    }\n",
       "</style>\n",
       "<table border=\"1\" class=\"dataframe\">\n",
       "  <thead>\n",
       "    <tr style=\"text-align: right;\">\n",
       "      <th></th>\n",
       "      <th>Accuracy</th>\n",
       "      <th>F1</th>\n",
       "      <th>Precision</th>\n",
       "      <th>Recall</th>\n",
       "      <th>ROC AUC</th>\n",
       "    </tr>\n",
       "  </thead>\n",
       "  <tbody>\n",
       "    <tr>\n",
       "      <th>Baseline XGBoost</th>\n",
       "      <td>0.764</td>\n",
       "      <td>0.190</td>\n",
       "      <td>0.500</td>\n",
       "      <td>0.118</td>\n",
       "      <td>0.760</td>\n",
       "    </tr>\n",
       "    <tr>\n",
       "      <th>Tuned XGBoost</th>\n",
       "      <td>0.667</td>\n",
       "      <td>0.368</td>\n",
       "      <td>0.333</td>\n",
       "      <td>0.412</td>\n",
       "      <td>0.735</td>\n",
       "    </tr>\n",
       "  </tbody>\n",
       "</table>\n",
       "</div>"
      ],
      "text/plain": [
       "                  Accuracy     F1  Precision  Recall  ROC AUC\n",
       "Baseline XGBoost     0.764  0.190      0.500   0.118    0.760\n",
       "Tuned XGBoost        0.667  0.368      0.333   0.412    0.735"
      ]
     },
     "metadata": {},
     "output_type": "display_data"
    }
   ],
   "source": [
    "# Organize metrics for comparison\n",
    "metrics_summary = pd.DataFrame({\n",
    "    \"Baseline XGBoost\": metrics_xgb,\n",
    "    \"Tuned XGBoost\": metrics_xgb_tuned\n",
    "}).T.round(3)\n",
    "\n",
    "print(\"\\nXGBoost Model Evaluation Summary:\")\n",
    "display(metrics_summary)"
   ]
  },
  {
   "cell_type": "markdown",
   "id": "f408fca1",
   "metadata": {},
   "source": [
    "### Cell 8: Visualize model performance"
   ]
  },
  {
   "cell_type": "code",
   "execution_count": 7,
   "id": "7e3ac42a",
   "metadata": {},
   "outputs": [
    {
     "data": {
      "image/png": "[encoded data removed]",
      "text/plain": [
       "<Figure size 1000x600 with 1 Axes>"
      ]
     },
     "metadata": {},
     "output_type": "display_data"
    }
   ],
   "source": [
    "# Convert summary to long format\n",
    "metrics_long = metrics_summary.reset_index().melt(id_vars='index', var_name='Metric', value_name='Score')\n",
    "metrics_long.rename(columns={'index': 'Model'}, inplace=True)\n",
    "\n",
    "# Create bar plot\n",
    "plt.figure(figsize=(10, 6))\n",
    "ax = sns.barplot(data=metrics_long, x='Metric', y='Score', hue='Model')\n",
    "\n",
    "plt.title(\"XGBoost Performance Comparison\")\n",
    "plt.ylim(0, 1.05)\n",
    "plt.ylabel(\"Score\")\n",
    "plt.xlabel(\"Metric\")\n",
    "plt.grid(axis='y', linestyle='--', alpha=0.6)\n",
    "plt.legend(title=\"Model\", bbox_to_anchor=(1.05, 1), loc='upper left')\n",
    "\n",
    "# Annotate values\n",
    "for p in ax.patches:\n",
    "    height = p.get_height()\n",
    "    if np.isnan(height) or height == 0:\n",
    "        continue\n",
    "    ax.annotate(f'{height:.2f}', \n",
    "                (p.get_x() + p.get_width() / 2., height), \n",
    "                ha='center', va='bottom', \n",
    "                fontsize=9, color='black', \n",
    "                xytext=(0, 3), textcoords='offset points')\n",
    "\n",
    "\n",
    "plt.tight_layout()\n",
    "plt.show()"
   ]
  },
  {
   "cell_type": "markdown",
   "id": "02e7087f",
   "metadata": {},
   "source": [
    "### Cell 9: `XGBoost` with `scale_pos_weight`"
   ]
  },
  {
   "cell_type": "code",
   "execution_count": 8,
   "id": "9dc6ef33",
   "metadata": {},
   "outputs": [
    {
     "name": "stderr",
     "output_type": "stream",
     "text": [
      "C:\\Users\\chhua\\AppData\\Local\\Packages\\PythonSoftwareFoundation.Python.3.11_qbz5n2kfra8p0\\LocalCache\\local-packages\\Python311\\site-packages\\xgboost\\training.py:183: UserWarning: [20:02:03] WARNING: C:\\actions-runner\\_work\\xgboost\\xgboost\\src\\learner.cc:738: \n",
      "Parameters: { \"use_label_encoder\" } are not used.\n",
      "\n",
      "  bst.update(dtrain, iteration=i, fobj=obj)\n"
     ]
    },
    {
     "name": "stdout",
     "output_type": "stream",
     "text": [
      "XGBoost (scale_pos_weight) Metrics:\n",
      "Accuracy: 0.819\n",
      "F1: 0.435\n",
      "Precision: 0.833\n",
      "Recall: 0.294\n",
      "ROC AUC: 0.751\n"
     ]
    }
   ],
   "source": [
    "# Calculate scale_pos_weight\n",
    "pos_count = sum(y_train == 1)\n",
    "neg_count = sum(y_train == 0)\n",
    "scale_pos_weight = neg_count / pos_count\n",
    "\n",
    "# Initialize and train XGBoost with scale_pos_weight\n",
    "xgb_weighted = XGBClassifier(\n",
    "    use_label_encoder=False,\n",
    "    eval_metric='logloss',\n",
    "    scale_pos_weight=scale_pos_weight,\n",
    "    random_state=42\n",
    ")\n",
    "xgb_weighted.fit(X_train_scaled, y_train)\n",
    "\n",
    "# Evaluate weighted XGBoost model\n",
    "y_pred_xgb_weighted = xgb_weighted.predict(X_test_scaled)\n",
    "y_prob_xgb_weighted = xgb_weighted.predict_proba(X_test_scaled)[:, 1]\n",
    "metrics_xgb_weighted = get_metrics(y_test, y_pred_xgb_weighted, y_prob_xgb_weighted)\n",
    "\n",
    "# Print metrics\n",
    "print(\"XGBoost (scale_pos_weight) Metrics:\")\n",
    "for k, v in metrics_xgb_weighted.items():\n",
    "    print(f\"{k}: {v:.3f}\")"
   ]
  },
  {
   "cell_type": "markdown",
   "id": "8602fb94",
   "metadata": {},
   "source": [
    "### Cell 10: `XGBoost` with `scale_pos_weight` hyperparameter tuning with `scale_pos_weight`"
   ]
  },
  {
   "cell_type": "code",
   "execution_count": 9,
   "id": "7f7a714f",
   "metadata": {},
   "outputs": [
    {
     "name": "stdout",
     "output_type": "stream",
     "text": [
      "Fitting 3 folds for each of 20 candidates, totalling 60 fits\n",
      "\n",
      "Tuned XGBoost (scale_pos_weight) Metrics:\n",
      "Accuracy: 0.625\n",
      "F1: 0.471\n",
      "Precision: 0.353\n",
      "Recall: 0.706\n",
      "ROC AUC: 0.658\n"
     ]
    },
    {
     "name": "stderr",
     "output_type": "stream",
     "text": [
      "C:\\Users\\chhua\\AppData\\Local\\Packages\\PythonSoftwareFoundation.Python.3.11_qbz5n2kfra8p0\\LocalCache\\local-packages\\Python311\\site-packages\\xgboost\\training.py:183: UserWarning: [20:02:04] WARNING: C:\\actions-runner\\_work\\xgboost\\xgboost\\src\\learner.cc:738: \n",
      "Parameters: { \"use_label_encoder\" } are not used.\n",
      "\n",
      "  bst.update(dtrain, iteration=i, fobj=obj)\n"
     ]
    }
   ],
   "source": [
    "# Hyperparameter tuning with scale_pos_weight\n",
    "scale_pos = (y_train == 0).sum() / (y_train == 1).sum()\n",
    "\n",
    "# Update hyperparameter grid to include scale_pos_weight\n",
    "param_dist_weighted = {\n",
    "    'n_estimators': [50, 100, 200, 300],\n",
    "    'max_depth': [3, 5, 7, 10],\n",
    "    'learning_rate': [0.01, 0.05, 0.1, 0.2],\n",
    "    'subsample': [0.5, 0.7, 1.0],\n",
    "    'colsample_bytree': [0.5, 0.7, 1.0],\n",
    "    'scale_pos_weight': [scale_pos, scale_pos * 1.5, scale_pos * 2.0]\n",
    "}\n",
    "\n",
    "# Initialize XGBoost model\n",
    "xgb_weighted_model = XGBClassifier(use_label_encoder=False, eval_metric='logloss', random_state=42)\n",
    "\n",
    "# Perform randomized search\n",
    "search_weighted = RandomizedSearchCV(\n",
    "    xgb_weighted_model,\n",
    "    param_distributions=param_dist_weighted,\n",
    "    n_iter=20,\n",
    "    scoring='f1',\n",
    "    cv=3,\n",
    "    n_jobs=-1,\n",
    "    verbose=1,\n",
    "    random_state=42\n",
    ")\n",
    "search_weighted.fit(X_train_scaled, y_train)\n",
    "\n",
    "# Predict and evaluate\n",
    "y_pred_xgb_weighted = search_weighted.best_estimator_.predict(X_test_scaled)\n",
    "y_prob_xgb_weighted = search_weighted.best_estimator_.predict_proba(X_test_scaled)[:, 1]\n",
    "metrics_xgb_weighted_tuned = get_metrics(y_test, y_pred_xgb_weighted, y_prob_xgb_weighted)\n",
    "\n",
    "print(\"\\nTuned XGBoost (scale_pos_weight) Metrics:\")\n",
    "for k, v in metrics_xgb_weighted_tuned.items():\n",
    "    print(f\"{k}: {v:.3f}\")\n"
   ]
  },
  {
   "cell_type": "markdown",
   "id": "07bc80d4",
   "metadata": {},
   "source": [
    "### Cell 11: Include weighted `XGBoost` and weighted `XGBoost` with `RandomizedSearchCV` in summary table"
   ]
  },
  {
   "cell_type": "code",
   "execution_count": 10,
   "id": "0778690e",
   "metadata": {},
   "outputs": [
    {
     "name": "stdout",
     "output_type": "stream",
     "text": [
      "\n",
      "XGBoost Model Evaluation Summary:\n"
     ]
    },
    {
     "data": {
      "text/html": [
       "<div>\n",
       "<style scoped>\n",
       "    .dataframe tbody tr th:only-of-type {\n",
       "        vertical-align: middle;\n",
       "    }\n",
       "\n",
       "    .dataframe tbody tr th {\n",
       "        vertical-align: top;\n",
       "    }\n",
       "\n",
       "    .dataframe thead th {\n",
       "        text-align: right;\n",
       "    }\n",
       "</style>\n",
       "<table border=\"1\" class=\"dataframe\">\n",
       "  <thead>\n",
       "    <tr style=\"text-align: right;\">\n",
       "      <th></th>\n",
       "      <th>Accuracy</th>\n",
       "      <th>F1</th>\n",
       "      <th>Precision</th>\n",
       "      <th>Recall</th>\n",
       "      <th>ROC AUC</th>\n",
       "    </tr>\n",
       "  </thead>\n",
       "  <tbody>\n",
       "    <tr>\n",
       "      <th>Baseline XGBoost</th>\n",
       "      <td>0.764</td>\n",
       "      <td>0.190</td>\n",
       "      <td>0.500</td>\n",
       "      <td>0.118</td>\n",
       "      <td>0.760</td>\n",
       "    </tr>\n",
       "    <tr>\n",
       "      <th>Tuned XGBoost</th>\n",
       "      <td>0.667</td>\n",
       "      <td>0.368</td>\n",
       "      <td>0.333</td>\n",
       "      <td>0.412</td>\n",
       "      <td>0.735</td>\n",
       "    </tr>\n",
       "    <tr>\n",
       "      <th>XGBoost (scale_pos_weight)</th>\n",
       "      <td>0.819</td>\n",
       "      <td>0.435</td>\n",
       "      <td>0.833</td>\n",
       "      <td>0.294</td>\n",
       "      <td>0.751</td>\n",
       "    </tr>\n",
       "    <tr>\n",
       "      <th>Tuned XGBoost (scale_pos_weight)</th>\n",
       "      <td>0.625</td>\n",
       "      <td>0.471</td>\n",
       "      <td>0.353</td>\n",
       "      <td>0.706</td>\n",
       "      <td>0.658</td>\n",
       "    </tr>\n",
       "  </tbody>\n",
       "</table>\n",
       "</div>"
      ],
      "text/plain": [
       "                                  Accuracy     F1  Precision  Recall  ROC AUC\n",
       "Baseline XGBoost                     0.764  0.190      0.500   0.118    0.760\n",
       "Tuned XGBoost                        0.667  0.368      0.333   0.412    0.735\n",
       "XGBoost (scale_pos_weight)           0.819  0.435      0.833   0.294    0.751\n",
       "Tuned XGBoost (scale_pos_weight)     0.625  0.471      0.353   0.706    0.658"
      ]
     },
     "metadata": {},
     "output_type": "display_data"
    }
   ],
   "source": [
    "# Updated metrics summary with 4 models\n",
    "metrics_summary = pd.DataFrame({\n",
    "    \"Baseline XGBoost\": metrics_xgb,\n",
    "    \"Tuned XGBoost\": metrics_xgb_tuned,\n",
    "    \"XGBoost (scale_pos_weight)\": metrics_xgb_weighted,\n",
    "    \"Tuned XGBoost (scale_pos_weight)\": metrics_xgb_weighted_tuned\n",
    "}).T.round(3)\n",
    "\n",
    "print(\"\\nXGBoost Model Evaluation Summary:\")\n",
    "display(metrics_summary)"
   ]
  },
  {
   "cell_type": "markdown",
   "id": "0c58c6e3",
   "metadata": {},
   "source": [
    "### Model Evaluation Summary\n",
    "This notebook implemented and evaluated several XGBoost classifiers to address the class imbalance present in the gene expression dataset that has been identified previously. Four configurations were tested:\n",
    "1. Baseline XGBoost\n",
    "2. Tuned XGBoost using `RandomizedSearchCV`\n",
    "3. XGBoost with `scale_pos_weight` adjustment\n",
    "4. Tuned XGBoost with `scale_pos_weight` + `RandomizedSearchCV`\n",
    "\n",
    "Each model was evaluated using five standard metrics: Accuracy, F1 Score, Precision, Recall, and ROC AUC.\n",
    "\n",
    "Among the models, XGBoost with `scale_pos_weight` achieved the highest accuracy (0.82) and precision (0.83), showing strong performance in predicting the majority class. Meanwhile, the tuned XGBoost with `scale_pos_weight` produced the highest recall (0.71), demonstrating improved sensitivity to detecting relapse cases.\n",
    "\n",
    "However, despite these improvements, F1 scores remained moderate across all XGBoost configurations, indicating continued trade-offs between precision and recall.\n",
    "\n",
    "When compared with the Random Forest models from Notebook 3, the results show:\n",
    "- Random Forest (class-weighted) offered a more balanced performance, with higher F1 Score and Recall than most XGBoost variants.\n",
    "- XGBoost models showed stronger performance in either precision or recall, but not both simultaneously.\n",
    "\n",
    "These findings suggest that XGBoost can improve class-specific performance, particularly when tuning `scale_pos_weight`, but Random Forest remains the more consistent and balanced model across all metrics in this dataset.\n",
    "\n",
    "The bar plot below illustrates the comparative performance across all four XGBoost models:\n",
    "- Baseline\n",
    "- Tuned\n",
    "- With `scale_pos_weight`\n",
    "- Tuned with `scale_pos_weight`"
   ]
  },
  {
   "cell_type": "markdown",
   "id": "60cf7951",
   "metadata": {},
   "source": [
    "### Cell 11: Plot comparison for all 4 models"
   ]
  },
  {
   "cell_type": "code",
   "execution_count": 11,
   "id": "ec8c9a4e",
   "metadata": {},
   "outputs": [
    {
     "data": {
      "image/png": "[encoded data removed]",
      "text/plain": [
       "<Figure size 1000x600 with 1 Axes>"
      ]
     },
     "metadata": {},
     "output_type": "display_data"
    }
   ],
   "source": [
    "# Update plot to include third model\n",
    "metrics_long = metrics_summary.reset_index().melt(id_vars='index', var_name='Metric', value_name='Score')\n",
    "metrics_long.rename(columns={'index': 'Model'}, inplace=True)\n",
    "\n",
    "# Plot\n",
    "plt.figure(figsize=(10, 6))\n",
    "ax = sns.barplot(data=metrics_long, x='Metric', y='Score', hue='Model')\n",
    "\n",
    "plt.title(\"XGBoost Performance Comparison\")\n",
    "plt.ylim(0, 1.05)\n",
    "plt.ylabel(\"Score\")\n",
    "plt.xlabel(\"Metric\")\n",
    "plt.grid(axis='y', linestyle='--', alpha=0.6)\n",
    "plt.legend(title=\"Model\", bbox_to_anchor=(1.05, 1), loc='upper left')\n",
    "\n",
    "# Annotate bar values\n",
    "for p in ax.patches:\n",
    "    height = p.get_height()\n",
    "    if not np.isnan(height) and height != 0:\n",
    "        ax.annotate(f'{height:.2f}', (p.get_x() + p.get_width() / 2., height),\n",
    "                    ha='center', va='bottom', fontsize=9, color='black',\n",
    "                    xytext=(0, 3), textcoords='offset points')\n",
    "\n",
    "plt.tight_layout()\n",
    "plt.show()"
   ]
  },
  {
   "cell_type": "markdown",
   "id": "5b570573",
   "metadata": {},
   "source": [
    "### Cell 12: Save model and scaler"
   ]
  },
  {
   "cell_type": "code",
   "execution_count": 12,
   "id": "2cd29cde",
   "metadata": {},
   "outputs": [
    {
     "name": "stdout",
     "output_type": "stream",
     "text": [
      "All models have been saved to `models` and all scalers have been saved to `scalers`.\n"
     ]
    }
   ],
   "source": [
    "# Create output directory if not exists\n",
    "os.makedirs(\"../models\", exist_ok=True)\n",
    "os.makedirs('../scalers', exist_ok=True)\n",
    "\n",
    "# # Save all three XGBoost models\n",
    "joblib.dump(xgb_baseline, \"../models/xgb_baseline_model.pkl\")\n",
    "joblib.dump(search_xgb.best_estimator_, \"../models/xgb_randomsearch_model.pkl\")\n",
    "joblib.dump(xgb_weighted, \"../models/xgb_weighted_model.pkl\")\n",
    "joblib.dump(search_weighted.best_estimator_, \"../models/xgb_weighted_randomsearch_model.pkl\")\n",
    "\n",
    "# Save the scaler used for all models\n",
    "joblib.dump(scaler_xgb, \"../scalers/xgb_scaler.pkl\")\n",
    "\n",
    "print(\"All models have been saved to `models` and all scalers have been saved to `scalers`.\")"
   ]
  },
  {
   "cell_type": "markdown",
   "id": "b1d0033c",
   "metadata": {},
   "source": [
    "### "
   ]
  },
  {
   "cell_type": "markdown",
   "id": "8b878a90",
   "metadata": {},
   "source": [
    "### "
   ]
  },
  {
   "cell_type": "markdown",
   "id": "1fa95eb9",
   "metadata": {},
   "source": [
    "### "
   ]
  },
  {
   "cell_type": "markdown",
   "id": "8d7e9c5a",
   "metadata": {},
   "source": [
    "### "
   ]
  },
  {
   "cell_type": "markdown",
   "id": "28d5078d",
   "metadata": {},
   "source": [
    "### "
   ]
  },
  {
   "cell_type": "markdown",
   "id": "df06d89e",
   "metadata": {},
   "source": [
    "### "
   ]
  },
  {
   "cell_type": "markdown",
   "id": "ceb8906f",
   "metadata": {},
   "source": [
    "### "
   ]
  }
 ],
 "metadata": {
  "kernelspec": {
   "display_name": "Python 3",
   "language": "python",
   "name": "python3"
  },
  "language_info": {
   "codemirror_mode": {
    "name": "ipython",
    "version": 3
   },
   "file_extension": ".py",
   "mimetype": "text/x-python",
   "name": "python",
   "nbconvert_exporter": "python",
   "pygments_lexer": "ipython3",
   "version": "3.11.9"
  }
 },
 "nbformat": 4,
 "nbformat_minor": 5
}
