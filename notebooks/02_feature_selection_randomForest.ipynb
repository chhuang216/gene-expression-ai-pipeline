{
 "cells": [
  {
   "cell_type": "markdown",
   "id": "300b6f65",
   "metadata": {},
   "source": [
    "### Cell 1: Import required libraries"
   ]
  },
  {
   "cell_type": "code",
   "execution_count": 1,
   "id": "0f58d6c6",
   "metadata": {},
   "outputs": [],
   "source": [
    "# Core libraries\n",
    "import pandas as pd\n",
    "\n",
    "# Model and metrics\n",
    "from sklearn.ensemble import RandomForestClassifier\n",
    "from sklearn.model_selection import train_test_split\n",
    "\n",
    "# Visualization\n",
    "import matplotlib.pyplot as plt\n",
    "import seaborn as sns\n",
    "\n",
    "# File operations\n",
    "import os"
   ]
  },
  {
   "cell_type": "markdown",
   "id": "5f418844",
   "metadata": {},
   "source": [
    "### Cell 2: Load filtered gene expression data"
   ]
  },
  {
   "cell_type": "code",
   "execution_count": 2,
   "id": "fd964cd0",
   "metadata": {},
   "outputs": [
    {
     "name": "stdout",
     "output_type": "stream",
     "text": [
      "Data shape: (286, 142)\n"
     ]
    },
    {
     "data": {
      "text/html": [
       "<div>\n",
       "<style scoped>\n",
       "    .dataframe tbody tr th:only-of-type {\n",
       "        vertical-align: middle;\n",
       "    }\n",
       "\n",
       "    .dataframe tbody tr th {\n",
       "        vertical-align: top;\n",
       "    }\n",
       "\n",
       "    .dataframe thead th {\n",
       "        text-align: right;\n",
       "    }\n",
       "</style>\n",
       "<table border=\"1\" class=\"dataframe\">\n",
       "  <thead>\n",
       "    <tr style=\"text-align: right;\">\n",
       "      <th></th>\n",
       "      <th>215121_x_at</th>\n",
       "      <th>211430_s_at</th>\n",
       "      <th>209138_x_at</th>\n",
       "      <th>AFFX-r2-P1-cre-3_at</th>\n",
       "      <th>214677_x_at</th>\n",
       "      <th>221651_x_at</th>\n",
       "      <th>221671_x_at</th>\n",
       "      <th>217022_s_at</th>\n",
       "      <th>AFFX-hum_alu_at</th>\n",
       "      <th>AFFX-r2-P1-cre-5_at</th>\n",
       "      <th>...</th>\n",
       "      <th>200819_s_at</th>\n",
       "      <th>214669_x_at</th>\n",
       "      <th>211978_x_at</th>\n",
       "      <th>200772_x_at</th>\n",
       "      <th>200781_s_at</th>\n",
       "      <th>217740_x_at</th>\n",
       "      <th>209312_x_at</th>\n",
       "      <th>200909_s_at</th>\n",
       "      <th>202029_x_at</th>\n",
       "      <th>label</th>\n",
       "    </tr>\n",
       "  </thead>\n",
       "  <tbody>\n",
       "    <tr>\n",
       "      <th>0</th>\n",
       "      <td>17356.8</td>\n",
       "      <td>7533.0</td>\n",
       "      <td>12103.9</td>\n",
       "      <td>33168.9</td>\n",
       "      <td>16579.1</td>\n",
       "      <td>22651.7</td>\n",
       "      <td>22432.5</td>\n",
       "      <td>21071.9</td>\n",
       "      <td>36911.3</td>\n",
       "      <td>25644.4</td>\n",
       "      <td>...</td>\n",
       "      <td>24840.6</td>\n",
       "      <td>2058.0</td>\n",
       "      <td>27318.0</td>\n",
       "      <td>13923.2</td>\n",
       "      <td>25821.1</td>\n",
       "      <td>22413.9</td>\n",
       "      <td>12340.6</td>\n",
       "      <td>21026.1</td>\n",
       "      <td>23088.6</td>\n",
       "      <td>0</td>\n",
       "    </tr>\n",
       "    <tr>\n",
       "      <th>1</th>\n",
       "      <td>4559.6</td>\n",
       "      <td>14457.2</td>\n",
       "      <td>5130.0</td>\n",
       "      <td>54401.4</td>\n",
       "      <td>9598.3</td>\n",
       "      <td>7747.8</td>\n",
       "      <td>7757.5</td>\n",
       "      <td>6031.3</td>\n",
       "      <td>65240.3</td>\n",
       "      <td>40720.0</td>\n",
       "      <td>...</td>\n",
       "      <td>20382.8</td>\n",
       "      <td>1133.8</td>\n",
       "      <td>36598.8</td>\n",
       "      <td>33136.5</td>\n",
       "      <td>23054.5</td>\n",
       "      <td>33907.2</td>\n",
       "      <td>3595.9</td>\n",
       "      <td>19745.8</td>\n",
       "      <td>34834.9</td>\n",
       "      <td>0</td>\n",
       "    </tr>\n",
       "    <tr>\n",
       "      <th>2</th>\n",
       "      <td>8487.4</td>\n",
       "      <td>17128.8</td>\n",
       "      <td>15230.9</td>\n",
       "      <td>61244.1</td>\n",
       "      <td>20989.1</td>\n",
       "      <td>30179.0</td>\n",
       "      <td>29296.0</td>\n",
       "      <td>7655.9</td>\n",
       "      <td>50811.8</td>\n",
       "      <td>50878.7</td>\n",
       "      <td>...</td>\n",
       "      <td>37976.7</td>\n",
       "      <td>2756.2</td>\n",
       "      <td>34989.8</td>\n",
       "      <td>11457.7</td>\n",
       "      <td>27685.6</td>\n",
       "      <td>35667.0</td>\n",
       "      <td>10862.0</td>\n",
       "      <td>19092.1</td>\n",
       "      <td>24744.6</td>\n",
       "      <td>0</td>\n",
       "    </tr>\n",
       "    <tr>\n",
       "      <th>3</th>\n",
       "      <td>94763.8</td>\n",
       "      <td>57521.4</td>\n",
       "      <td>74831.8</td>\n",
       "      <td>62292.1</td>\n",
       "      <td>69224.9</td>\n",
       "      <td>70583.2</td>\n",
       "      <td>68258.8</td>\n",
       "      <td>71630.9</td>\n",
       "      <td>59568.3</td>\n",
       "      <td>46870.8</td>\n",
       "      <td>...</td>\n",
       "      <td>32353.6</td>\n",
       "      <td>26570.6</td>\n",
       "      <td>38586.7</td>\n",
       "      <td>35548.7</td>\n",
       "      <td>34826.3</td>\n",
       "      <td>36727.5</td>\n",
       "      <td>30455.5</td>\n",
       "      <td>30981.4</td>\n",
       "      <td>26052.4</td>\n",
       "      <td>0</td>\n",
       "    </tr>\n",
       "    <tr>\n",
       "      <th>4</th>\n",
       "      <td>75816.4</td>\n",
       "      <td>73245.3</td>\n",
       "      <td>57728.0</td>\n",
       "      <td>57295.1</td>\n",
       "      <td>57544.1</td>\n",
       "      <td>63239.9</td>\n",
       "      <td>63279.8</td>\n",
       "      <td>55519.9</td>\n",
       "      <td>64905.1</td>\n",
       "      <td>40847.1</td>\n",
       "      <td>...</td>\n",
       "      <td>21301.7</td>\n",
       "      <td>26212.1</td>\n",
       "      <td>42940.6</td>\n",
       "      <td>40349.9</td>\n",
       "      <td>22652.8</td>\n",
       "      <td>27196.4</td>\n",
       "      <td>28472.9</td>\n",
       "      <td>21891.7</td>\n",
       "      <td>35164.8</td>\n",
       "      <td>0</td>\n",
       "    </tr>\n",
       "  </tbody>\n",
       "</table>\n",
       "<p>5 rows × 142 columns</p>\n",
       "</div>"
      ],
      "text/plain": [
       "   215121_x_at  211430_s_at  209138_x_at  AFFX-r2-P1-cre-3_at  214677_x_at  \\\n",
       "0      17356.8       7533.0      12103.9              33168.9      16579.1   \n",
       "1       4559.6      14457.2       5130.0              54401.4       9598.3   \n",
       "2       8487.4      17128.8      15230.9              61244.1      20989.1   \n",
       "3      94763.8      57521.4      74831.8              62292.1      69224.9   \n",
       "4      75816.4      73245.3      57728.0              57295.1      57544.1   \n",
       "\n",
       "   221651_x_at  221671_x_at  217022_s_at  AFFX-hum_alu_at  \\\n",
       "0      22651.7      22432.5      21071.9          36911.3   \n",
       "1       7747.8       7757.5       6031.3          65240.3   \n",
       "2      30179.0      29296.0       7655.9          50811.8   \n",
       "3      70583.2      68258.8      71630.9          59568.3   \n",
       "4      63239.9      63279.8      55519.9          64905.1   \n",
       "\n",
       "   AFFX-r2-P1-cre-5_at  ...  200819_s_at  214669_x_at  211978_x_at  \\\n",
       "0              25644.4  ...      24840.6       2058.0      27318.0   \n",
       "1              40720.0  ...      20382.8       1133.8      36598.8   \n",
       "2              50878.7  ...      37976.7       2756.2      34989.8   \n",
       "3              46870.8  ...      32353.6      26570.6      38586.7   \n",
       "4              40847.1  ...      21301.7      26212.1      42940.6   \n",
       "\n",
       "   200772_x_at  200781_s_at  217740_x_at  209312_x_at  200909_s_at  \\\n",
       "0      13923.2      25821.1      22413.9      12340.6      21026.1   \n",
       "1      33136.5      23054.5      33907.2       3595.9      19745.8   \n",
       "2      11457.7      27685.6      35667.0      10862.0      19092.1   \n",
       "3      35548.7      34826.3      36727.5      30455.5      30981.4   \n",
       "4      40349.9      22652.8      27196.4      28472.9      21891.7   \n",
       "\n",
       "   202029_x_at  label  \n",
       "0      23088.6      0  \n",
       "1      34834.9      0  \n",
       "2      24744.6      0  \n",
       "3      26052.4      0  \n",
       "4      35164.8      0  \n",
       "\n",
       "[5 rows x 142 columns]"
      ]
     },
     "execution_count": 2,
     "metadata": {},
     "output_type": "execute_result"
    }
   ],
   "source": [
    "# Load the cleaned gene expression dataset (output from Notebook 01)\n",
    "df = pd.read_csv(\"../data/filtered_expression_data.csv\")\n",
    "\n",
    "# Display shape and preview\n",
    "print(\"Data shape:\", df.shape)\n",
    "df.head()"
   ]
  },
  {
   "cell_type": "markdown",
   "id": "d6f1a1e4",
   "metadata": {},
   "source": [
    "### Cell 3: Split data into features and target"
   ]
  },
  {
   "cell_type": "code",
   "execution_count": 3,
   "id": "869377e3",
   "metadata": {},
   "outputs": [
    {
     "name": "stdout",
     "output_type": "stream",
     "text": [
      "Training samples: 214\n",
      "Testing samples: 72\n",
      "Total features: 141\n"
     ]
    }
   ],
   "source": [
    "# Separate features and target column\n",
    "X = df.drop(columns=[\"label\"])\n",
    "y = df[\"label\"]\n",
    "\n",
    "# Perform train-test split (stratified for balanced class distribution)\n",
    "X_train, X_test, y_train, y_test = train_test_split(\n",
    "    X, y, test_size=0.25, stratify=y, random_state=42\n",
    ")\n",
    "\n",
    "# Print the number of samples and features\n",
    "print(f\"Training samples: {X_train.shape[0]}\")\n",
    "print(f\"Testing samples: {X_test.shape[0]}\")\n",
    "print(f\"Total features: {X.shape[1]}\")"
   ]
  },
  {
   "cell_type": "markdown",
   "id": "5e5e6417",
   "metadata": {},
   "source": [
    "### Cell 4: Train Random Forest model for feature importance"
   ]
  },
  {
   "cell_type": "code",
   "execution_count": 4,
   "id": "e4621b68",
   "metadata": {},
   "outputs": [
    {
     "data": {
      "text/html": [
       "<div>\n",
       "<style scoped>\n",
       "    .dataframe tbody tr th:only-of-type {\n",
       "        vertical-align: middle;\n",
       "    }\n",
       "\n",
       "    .dataframe tbody tr th {\n",
       "        vertical-align: top;\n",
       "    }\n",
       "\n",
       "    .dataframe thead th {\n",
       "        text-align: right;\n",
       "    }\n",
       "</style>\n",
       "<table border=\"1\" class=\"dataframe\">\n",
       "  <thead>\n",
       "    <tr style=\"text-align: right;\">\n",
       "      <th></th>\n",
       "      <th>Feature</th>\n",
       "      <th>Importance</th>\n",
       "    </tr>\n",
       "  </thead>\n",
       "  <tbody>\n",
       "    <tr>\n",
       "      <th>120</th>\n",
       "      <td>214394_x_at</td>\n",
       "      <td>0.021759</td>\n",
       "    </tr>\n",
       "    <tr>\n",
       "      <th>136</th>\n",
       "      <td>200781_s_at</td>\n",
       "      <td>0.017075</td>\n",
       "    </tr>\n",
       "    <tr>\n",
       "      <th>140</th>\n",
       "      <td>202029_x_at</td>\n",
       "      <td>0.016341</td>\n",
       "    </tr>\n",
       "    <tr>\n",
       "      <th>125</th>\n",
       "      <td>200061_s_at</td>\n",
       "      <td>0.014995</td>\n",
       "    </tr>\n",
       "    <tr>\n",
       "      <th>106</th>\n",
       "      <td>214143_x_at</td>\n",
       "      <td>0.014861</td>\n",
       "    </tr>\n",
       "    <tr>\n",
       "      <th>80</th>\n",
       "      <td>215946_x_at</td>\n",
       "      <td>0.014861</td>\n",
       "    </tr>\n",
       "    <tr>\n",
       "      <th>27</th>\n",
       "      <td>221798_x_at</td>\n",
       "      <td>0.014483</td>\n",
       "    </tr>\n",
       "    <tr>\n",
       "      <th>99</th>\n",
       "      <td>215157_x_at</td>\n",
       "      <td>0.013374</td>\n",
       "    </tr>\n",
       "    <tr>\n",
       "      <th>4</th>\n",
       "      <td>214677_x_at</td>\n",
       "      <td>0.013074</td>\n",
       "    </tr>\n",
       "    <tr>\n",
       "      <th>67</th>\n",
       "      <td>214459_x_at</td>\n",
       "      <td>0.012750</td>\n",
       "    </tr>\n",
       "  </tbody>\n",
       "</table>\n",
       "</div>"
      ],
      "text/plain": [
       "         Feature  Importance\n",
       "120  214394_x_at    0.021759\n",
       "136  200781_s_at    0.017075\n",
       "140  202029_x_at    0.016341\n",
       "125  200061_s_at    0.014995\n",
       "106  214143_x_at    0.014861\n",
       "80   215946_x_at    0.014861\n",
       "27   221798_x_at    0.014483\n",
       "99   215157_x_at    0.013374\n",
       "4    214677_x_at    0.013074\n",
       "67   214459_x_at    0.012750"
      ]
     },
     "execution_count": 4,
     "metadata": {},
     "output_type": "execute_result"
    }
   ],
   "source": [
    "# Train a baseline Random Forest classifier\n",
    "rf = RandomForestClassifier(n_estimators=100, random_state=42, n_jobs=-1)\n",
    "rf.fit(X_train, y_train)\n",
    "\n",
    "# Extract feature importances\n",
    "importances = rf.feature_importances_\n",
    "feature_names = X.columns\n",
    "importance_df = pd.DataFrame({\n",
    "    \"Feature\": feature_names,\n",
    "    \"Importance\": importances\n",
    "}).sort_values(by=\"Importance\", ascending=False)\n",
    "\n",
    "# Display top 10 most important features\n",
    "importance_df.head(10)"
   ]
  },
  {
   "cell_type": "markdown",
   "id": "33714023",
   "metadata": {},
   "source": [
    "### Cell 5: Visualize feature importances"
   ]
  },
  {
   "cell_type": "code",
   "execution_count": 5,
   "id": "9d5dc333",
   "metadata": {},
   "outputs": [
    {
     "name": "stderr",
     "output_type": "stream",
     "text": [
      "C:\\Users\\chhua\\AppData\\Local\\Temp\\ipykernel_22184\\2032648796.py:4: FutureWarning: \n",
      "\n",
      "Passing `palette` without assigning `hue` is deprecated and will be removed in v0.14.0. Assign the `y` variable to `hue` and set `legend=False` for the same effect.\n",
      "\n",
      "  sns.barplot(\n"
     ]
    },
    {
     "data": {
      "image/png": "[encoded data removed]",
      "text/plain": [
       "<Figure size 1000x600 with 1 Axes>"
      ]
     },
     "metadata": {},
     "output_type": "display_data"
    }
   ],
   "source": [
    "# Plot the top 20 most important features\n",
    "top_n = 20\n",
    "plt.figure(figsize=(10, 6))\n",
    "sns.barplot(\n",
    "    data=importance_df.head(top_n),\n",
    "    x=\"Importance\", y=\"Feature\", palette=\"viridis\"\n",
    ")\n",
    "plt.title(f\"Top {top_n} Important Features by Random Forest\")\n",
    "plt.xlabel(\"Feature Importance\")\n",
    "plt.ylabel(\"Gene\")\n",
    "plt.tight_layout()\n",
    "plt.show()"
   ]
  },
  {
   "cell_type": "markdown",
   "id": "e9264158",
   "metadata": {},
   "source": [
    "### Cell 6: Select features above the median importance"
   ]
  },
  {
   "cell_type": "code",
   "execution_count": 6,
   "id": "a3a74f8c",
   "metadata": {},
   "outputs": [
    {
     "name": "stdout",
     "output_type": "stream",
     "text": [
      "Selected 70 features out of 141\n"
     ]
    }
   ],
   "source": [
    "# Define importance threshold as the median importance score\n",
    "threshold = importance_df[\"Importance\"].median()\n",
    "\n",
    "# Filter features above the threshold\n",
    "selected_features = importance_df[importance_df[\"Importance\"] > threshold][\"Feature\"].tolist()\n",
    "\n",
    "# Subset original dataset\n",
    "df_selected = df[[\"label\"] + selected_features]\n",
    "\n",
    "print(f\"Selected {len(selected_features)} features out of {X.shape[1]}\")"
   ]
  },
  {
   "cell_type": "markdown",
   "id": "6e5fefda",
   "metadata": {},
   "source": [
    "### Cell 7: Export filtered dataset\n"
   ]
  },
  {
   "cell_type": "code",
   "execution_count": 7,
   "id": "f948cd65",
   "metadata": {},
   "outputs": [
    {
     "name": "stdout",
     "output_type": "stream",
     "text": [
      "Saved selected features dataset to: ../data/selected_expression_data.csv\n"
     ]
    }
   ],
   "source": [
    "# Create output directory if not exists\n",
    "os.makedirs(\"../data\", exist_ok=True)\n",
    "\n",
    "# Save selected gene expression data\n",
    "output_path = \"../data/selected_expression_data.csv\"\n",
    "df_selected.to_csv(output_path, index=False)\n",
    "\n",
    "print(f\"Saved selected features dataset to: {output_path}\")\n"
   ]
  }
 ],
 "metadata": {
  "kernelspec": {
   "display_name": "Python 3",
   "language": "python",
   "name": "python3"
  },
  "language_info": {
   "codemirror_mode": {
    "name": "ipython",
    "version": 3
   },
   "file_extension": ".py",
   "mimetype": "text/x-python",
   "name": "python",
   "nbconvert_exporter": "python",
   "pygments_lexer": "ipython3",
   "version": "3.11.9"
  }
 },
 "nbformat": 4,
 "nbformat_minor": 5
}
